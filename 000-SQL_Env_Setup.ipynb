{
 "cells": [
  {
   "cell_type": "markdown",
   "id": "96941acc-8622-48c1-a163-fd816aef78c0",
   "metadata": {
    "tags": []
   },
   "source": [
    "# SQL Connection using `.env`\n",
    "* Credentials are excluded from the notebook file\n",
    "* Relies on a separate `.env` file in an absolute or relative path to the notebook file"
   ]
  },
  {
   "cell_type": "markdown",
   "id": "67a78743-2a39-4d88-b6f8-1470679825e9",
   "metadata": {
    "jp-MarkdownHeadingCollapsed": true,
    "tags": []
   },
   "source": [
    "#### Details"
   ]
  },
  {
   "cell_type": "markdown",
   "id": "2c8f883e-b1a4-4444-86e1-737101834b3e",
   "metadata": {
    "tags": []
   },
   "source": [
    "Example contents of the `.env` file:\n",
    "``` env\n",
    "# Development settings\n",
    "DOMAIN=example.org\n",
    "ADMIN_EMAIL=admin@${DOMAIN}\n",
    "ROOT_URL=${DOMAIN}/app\n",
    "```\n",
    "\n",
    "Jupyter Notebook references the contents of the `.env` file by:\n",
    "* Importing packages using magics, `%load_ext dotenv`, `%dotenv`\n",
    "* `import os`\n",
    "* Assign `.env` variables into a `global_var`. \n",
    "  * Example: `email = os.getenv(\"ADMIN_EMAIL\")`\n",
    "  * Output : `admin@example.org`\n",
    "* `.env` file needs to be excluded from version control by adding the following to your `.gitignore`:"
   ]
  },
  {
   "cell_type": "markdown",
   "id": "e4e56d9d-f8e3-4416-8f4f-e34d6ab83dde",
   "metadata": {},
   "source": [
    "####"
   ]
  },
  {
   "cell_type": "markdown",
   "id": "30cc1d9e-c1fb-4a6f-ab77-c0ba727ebe9d",
   "metadata": {},
   "source": [
    "## `.env` variables"
   ]
  },
  {
   "cell_type": "code",
   "execution_count": 1,
   "id": "f03fc45d-65e6-4a92-9003-f74de566942a",
   "metadata": {},
   "outputs": [],
   "source": [
    "import os\n",
    "import requests\n",
    "import ibm_db\n",
    "import ibm_db_dbi\n",
    "import pandas as pd\n",
    "# magics for import statements\n",
    "%load_ext dotenv\n",
    "%dotenv"
   ]
  },
  {
   "cell_type": "code",
   "execution_count": 2,
   "id": "e0d87357-9ec7-4190-87b5-c93f23250329",
   "metadata": {},
   "outputs": [],
   "source": [
    "# Replace the placeholder values with the actuals for your Db2 Service Credentials\n",
    "DSN_DRIVER = os.getenv(\"dsn_driver\")\n",
    "DSN_DB = os.getenv(\"dsn_database\")\n",
    "DSN_HOSTNAME = os.getenv(\"dsn_hostname\")\n",
    "DSN_PORT = os.getenv(\"dsn_port\")\n",
    "DSN_PROTOCOL = os.getenv(\"dsn_protocol\")\n",
    "DSN_UID = os.getenv(\"dsn_uid\")\n",
    "DSN_PWD = os.getenv(\"dsn_pwd\")\n",
    "DSN_SECURITY = os.getenv(\"dsn_security\")"
   ]
  },
  {
   "cell_type": "markdown",
   "id": "3826733c-ec74-4afa-a16f-59b209609bda",
   "metadata": {},
   "source": [
    "## Connection using `ibm_db` library"
   ]
  },
  {
   "cell_type": "code",
   "execution_count": 13,
   "id": "bd6b7545-15ca-4446-a6cc-875823c7781f",
   "metadata": {},
   "outputs": [
    {
     "name": "stdout",
     "output_type": "stream",
     "text": [
      "Connected to database:  BLUDB as user:  mkr43631 on host:  fbd88901-ebdb-4a4f-a32e-9822b9fb237b.c1ogj3sd0tgtu0lqde00.databases.appdomain.cloud\n"
     ]
    }
   ],
   "source": [
    "# Create database connection\n",
    "# DO NOT MODIFY THIS CELL. Just RUN it with Shift + Enter\n",
    "dsn = (\n",
    "    \"DRIVER={0};\"\n",
    "    \"DATABASE={1};\"\n",
    "    \"HOSTNAME={2};\"\n",
    "    \"PORT={3};\"\n",
    "    \"PROTOCOL={4};\"\n",
    "    \"UID={5};\"\n",
    "    \"PWD={6};\"\n",
    "    \"SECURITY={7};\").format(DSN_DRIVER, DSN_DB, DSN_HOSTNAME, DSN_PORT, DSN_PROTOCOL, DSN_UID, DSN_PWD, DSN_SECURITY)\n",
    "#                    format(dsn_driver, dsn_db, dsn_hostname, dsn_port, dsn_protocol, dsn_uid, dsn_pwd, dsn_security)\n",
    "# print(dsn)\n",
    "\n",
    "try:\n",
    "    conn = ibm_db.connect(dsn, \"\", \"\")\n",
    "    print(\"Connected to database: \", DSN_DB, \"as user: \", DSN_UID, \"on host: \", DSN_HOSTNAME)\n",
    "except:\n",
    "    print(\"Unable to connect: \", ibm_db.conn_errormsg())"
   ]
  },
  {
   "cell_type": "code",
   "execution_count": 14,
   "id": "9ed42228-6615-496e-a625-4057c3485232",
   "metadata": {},
   "outputs": [],
   "source": [
    "# connection for pandas\n",
    "pconn = ibm_db_dbi.Connection(conn)\n",
    "# query statement to retrieve all rows in INSTRUCTOR table\n",
    "selectQuery = \"select * from INTERNATIONAL_STUDENT_TEST_SCORES\"\n",
    "\n",
    "# retrieve the query results into a pandas dataframe\n",
    "pdf = pd.read_sql(selectQuery, pconn)"
   ]
  },
  {
   "cell_type": "code",
   "execution_count": 15,
   "id": "b7935d9b-964d-4e6e-9d01-893a4e9c3a3f",
   "metadata": {},
   "outputs": [
    {
     "data": {
      "text/html": [
       "<div>\n",
       "<style scoped>\n",
       "    .dataframe tbody tr th:only-of-type {\n",
       "        vertical-align: middle;\n",
       "    }\n",
       "\n",
       "    .dataframe tbody tr th {\n",
       "        vertical-align: top;\n",
       "    }\n",
       "\n",
       "    .dataframe thead th {\n",
       "        text-align: right;\n",
       "    }\n",
       "</style>\n",
       "<table border=\"1\" class=\"dataframe\">\n",
       "  <thead>\n",
       "    <tr style=\"text-align: right;\">\n",
       "      <th></th>\n",
       "      <th>COUNTRY</th>\n",
       "      <th>FIRST_NAME</th>\n",
       "      <th>LAST_NAME</th>\n",
       "      <th>TEST_SCORE</th>\n",
       "    </tr>\n",
       "  </thead>\n",
       "  <tbody>\n",
       "    <tr>\n",
       "      <th>0</th>\n",
       "      <td>United States</td>\n",
       "      <td>Marshall</td>\n",
       "      <td>Bernadot</td>\n",
       "      <td>54</td>\n",
       "    </tr>\n",
       "    <tr>\n",
       "      <th>1</th>\n",
       "      <td>Ghana</td>\n",
       "      <td>Celinda</td>\n",
       "      <td>Malkin</td>\n",
       "      <td>51</td>\n",
       "    </tr>\n",
       "    <tr>\n",
       "      <th>2</th>\n",
       "      <td>Ukraine</td>\n",
       "      <td>Guillermo</td>\n",
       "      <td>Furze</td>\n",
       "      <td>53</td>\n",
       "    </tr>\n",
       "    <tr>\n",
       "      <th>3</th>\n",
       "      <td>Greece</td>\n",
       "      <td>Aharon</td>\n",
       "      <td>Tunnow</td>\n",
       "      <td>48</td>\n",
       "    </tr>\n",
       "    <tr>\n",
       "      <th>4</th>\n",
       "      <td>Russia</td>\n",
       "      <td>Bail</td>\n",
       "      <td>Goodwin</td>\n",
       "      <td>46</td>\n",
       "    </tr>\n",
       "  </tbody>\n",
       "</table>\n",
       "</div>"
      ],
      "text/plain": [
       "         COUNTRY FIRST_NAME LAST_NAME  TEST_SCORE\n",
       "0  United States   Marshall  Bernadot          54\n",
       "1          Ghana    Celinda    Malkin          51\n",
       "2        Ukraine  Guillermo     Furze          53\n",
       "3         Greece     Aharon    Tunnow          48\n",
       "4         Russia       Bail   Goodwin          46"
      ]
     },
     "execution_count": 15,
     "metadata": {},
     "output_type": "execute_result"
    }
   ],
   "source": [
    "# print just the LNAME for first row in the pandas data frame\n",
    "pdf.head()"
   ]
  },
  {
   "cell_type": "code",
   "execution_count": 75,
   "id": "24d27387-91ff-452c-ab95-23648aab190a",
   "metadata": {},
   "outputs": [
    {
     "name": "stdout",
     "output_type": "stream",
     "text": [
      "Connection is not active\n"
     ]
    }
   ],
   "source": [
    "try:\n",
    "    ibm_db.close(conn)\n",
    "except Exception:\n",
    "    print('Connection is not active')"
   ]
  },
  {
   "cell_type": "markdown",
   "id": "c65171d6-7d77-4eb7-9467-a15805a10cdb",
   "metadata": {},
   "source": [
    "## SQL Magics"
   ]
  },
  {
   "cell_type": "code",
   "execution_count": 21,
   "id": "6de2508e-1d88-47dc-ad50-4e0e610c3f83",
   "metadata": {},
   "outputs": [
    {
     "name": "stdout",
     "output_type": "stream",
     "text": [
      "The sql extension is already loaded. To reload it, use:\n",
      "  %reload_ext sql\n"
     ]
    }
   ],
   "source": [
    "%load_ext sql"
   ]
  },
  {
   "cell_type": "code",
   "execution_count": 69,
   "id": "4a9cd5b2-dd31-4c1a-a2af-caf156ba8248",
   "metadata": {},
   "outputs": [],
   "source": [
    "# sql magic\n",
    "conn_str = 'ibm_db_sa://'+DSN_UID+\":\"+DSN_PWD+\"@\"+DSN_HOSTNAME+\":\"+DSN_PORT+\"/\"+DSN_DB.lower()+\"?security=\"+DSN_SECURITY\n",
    "# print(var1==conn_str)\n",
    "# print(var1)\n",
    "# print(conn_str)\n",
    "%sql $conn_str"
   ]
  },
  {
   "cell_type": "code",
   "execution_count": 70,
   "id": "ebef3f12-f998-4bac-a115-dad7fa1b168e",
   "metadata": {},
   "outputs": [
    {
     "name": "stdout",
     "output_type": "stream",
     "text": [
      " * ibm_db_sa://mkr43631:***@fbd88901-ebdb-4a4f-a32e-9822b9fb237b.c1ogj3sd0tgtu0lqde00.databases.appdomain.cloud:32731/bludb\n",
      "Done.\n"
     ]
    },
    {
     "data": {
      "text/html": [
       "<table>\n",
       "    <tr>\n",
       "        <th>country</th>\n",
       "        <th>first_name</th>\n",
       "        <th>last_name</th>\n",
       "        <th>test_score</th>\n",
       "    </tr>\n",
       "    <tr>\n",
       "        <td>Canada</td>\n",
       "        <td>Cristionna</td>\n",
       "        <td>Wadmore</td>\n",
       "        <td>46</td>\n",
       "    </tr>\n",
       "    <tr>\n",
       "        <td>Canada</td>\n",
       "        <td>Wilhelm</td>\n",
       "        <td>Deeprose</td>\n",
       "        <td>54</td>\n",
       "    </tr>\n",
       "    <tr>\n",
       "        <td>Canada</td>\n",
       "        <td>Carma</td>\n",
       "        <td>Schule</td>\n",
       "        <td>49</td>\n",
       "    </tr>\n",
       "</table>"
      ],
      "text/plain": [
       "[('Canada', 'Cristionna', 'Wadmore', 46),\n",
       " ('Canada', 'Wilhelm', 'Deeprose', 54),\n",
       " ('Canada', 'Carma', 'Schule', 49)]"
      ]
     },
     "execution_count": 70,
     "metadata": {},
     "output_type": "execute_result"
    }
   ],
   "source": [
    "country = \"Canada\"\n",
    "%sql select * from INTERNATIONAL_STUDENT_TEST_SCORES where country = :country"
   ]
  },
  {
   "cell_type": "code",
   "execution_count": 71,
   "id": "8e084c81-b84c-4807-8c6d-87934a1f0fca",
   "metadata": {},
   "outputs": [
    {
     "name": "stdout",
     "output_type": "stream",
     "text": [
      "{'ibm_db_sa://mkr43631:***@fbd88901-ebdb-4a4f-a32e-9822b9fb237b.c1ogj3sd0tgtu0lqde00.databases.appdomain.cloud:32731/bludb': <sql.connection.Connection object at 0x0000017CE91177C0>}\n"
     ]
    }
   ],
   "source": [
    "# list of current database connections and their properties\n",
    "conn_list = %sql l / --connections\n",
    "print(conn_list)"
   ]
  },
  {
   "cell_type": "code",
   "execution_count": null,
   "id": "94b97683-fd30-442c-90d9-4538655c13d3",
   "metadata": {},
   "outputs": [],
   "source": []
  }
 ],
 "metadata": {
  "kernelspec": {
   "display_name": "Python 3 (ipykernel)",
   "language": "python",
   "name": "python3"
  },
  "language_info": {
   "codemirror_mode": {
    "name": "ipython",
    "version": 3
   },
   "file_extension": ".py",
   "mimetype": "text/x-python",
   "name": "python",
   "nbconvert_exporter": "python",
   "pygments_lexer": "ipython3",
   "version": "3.9.5"
  }
 },
 "nbformat": 4,
 "nbformat_minor": 5
}
